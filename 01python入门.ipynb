{
 "cells": [
  {
   "cell_type": "markdown",
   "metadata": {},
   "source": [
    "# python 入门"
   ]
  },
  {
   "cell_type": "markdown",
   "metadata": {},
   "source": [
    "&emsp;&emsp; Python这一编程语言已经问世20多年了，在这期间，Python不仅完成\n",
    "了自身的进化，还获得了大量的用户。现在，Python作为最具人气的编程语言，\n",
    "受到了许多人的喜爱。\n",
    "\n",
    "&emsp;&emsp;接下来我们将使用Python实现深度学习系统。不过在这之前，本章将简\n",
    "单地介绍一下Python，看一下它的使用方法。已经掌握了Python、NumPy、\n",
    "Matplotlib等知识的读者，可以跳过本章，直接阅读后面的章节。"
   ]
  },
  {
   "cell_type": "markdown",
   "metadata": {},
   "source": [
    "## 使用的外部库"
   ]
  },
  {
   "cell_type": "markdown",
   "metadata": {},
   "source": [
    "&emsp;&emsp; 本书的目标是从零开始实现深度学习。因此，除了NumPy库和Matplotlib\n",
    "库之外，我们极力避免使用外部库。之所以使用这两个库，是因为它们可以\n",
    "有效地促进深度学习的实现。\n",
    "\n",
    "&emsp;&emsp; NumPy是用于数值计算的库，提供了很多高级的数学算法和便利的数\n",
    "组（矩阵）操作方法。本书中将使用这些便利的方法来有效地促进深度学习\n",
    "的实现。\n",
    "\n",
    "&emsp;&emsp;  Matplotlib是用来画图的库。使用Matplotlib能将实验结果可视化，并\n",
    "在视觉上确认深度学习运行期间的数据。\n",
    "\n",
    ">本书将使用下列编程语言和库。\n",
    "* Python 3. x （2016年8月时的最新版本是3.5）\n",
    "* NumPy\n",
    "* Matplotlib"
   ]
  },
  {
   "cell_type": "markdown",
   "metadata": {},
   "source": [
    "## Anaconda发行版"
   ]
  },
  {
   "cell_type": "markdown",
   "metadata": {},
   "source": [
    "&emsp;&emsp; Python的安装方法有很多种，本书推荐使用Anaconda这个发行版。发\n",
    "行版集成了必要的库，使用户可以一次性完成安装。Anaconda是一个侧重\n",
    "于数据分析的发行版，前面说的NumPy、Matplotlib等有助于数据分析的\n",
    "库都包含在其中。\n",
    "\n",
    ">Anaconda作为一个针对数据分析的发行版，包含了许多有用的库，而本书中实际上只会使用其中的\n",
    "NumPy库和Matplotlib库。因此，如果想保持轻量级的开发环境，单独安装这两个库也是可以的。\n",
    "\n",
    "&emsp;&emsp; 如前所述，本书将使用Python 3.x版本，因此Anaconda发行版也要安\n",
    "装3.x的版本。请读者从官方网站下载与自己的操作系统相应的发行版，然\n",
    "后安装。"
   ]
  },
  {
   "cell_type": "markdown",
   "metadata": {},
   "source": [
    "## python解释器"
   ]
  },
  {
   "cell_type": "markdown",
   "metadata": {},
   "source": [
    "&emsp;&emsp; Python解释器也被称为“对话模式”，用户能够以和Python对话的方式\n",
    "进行编程。比如，当用户询问“1 + 2等于几？”的时候，Python解释器会回\n",
    "答“3”，所谓对话模式，就是指这样的交互。现在，我们实际输入一下看看。"
   ]
  },
  {
   "cell_type": "code",
   "execution_count": 2,
   "metadata": {},
   "outputs": [
    {
     "data": {
      "text/plain": [
       "3"
      ]
     },
     "execution_count": 2,
     "metadata": {},
     "output_type": "execute_result"
    }
   ],
   "source": [
    ">>> 1 + 2"
   ]
  },
  {
   "cell_type": "markdown",
   "metadata": {},
   "source": [
    "&emsp;&emsp; Python解释器可以像这样进行对话式（交互式）的编程。下面，我们使\n",
    "用这个对话模式，来看几个简单的Python编程的例子"
   ]
  },
  {
   "cell_type": "markdown",
   "metadata": {},
   "source": [
    "### 算术计算"
   ]
  },
  {
   "cell_type": "markdown",
   "metadata": {},
   "source": [
    "&emsp;&emsp; 加法或乘法等算术运算，可按如下方式进行"
   ]
  },
  {
   "cell_type": "code",
   "execution_count": 4,
   "metadata": {},
   "outputs": [
    {
     "data": {
      "text/plain": [
       "(-1, 20, 1.4, 9)"
      ]
     },
     "execution_count": 4,
     "metadata": {},
     "output_type": "execute_result"
    }
   ],
   "source": [
    "1-2,4*5,7/5,3**2"
   ]
  },
  {
   "cell_type": "markdown",
   "metadata": {},
   "source": [
    "&emsp;&emsp; * 表示乘法， / 表示除法， ** 表示乘方（ 3**2 是3的2次方）。另外，在\n",
    "Python 2.x中，整数除以整数的结果是整数，比如，7 ÷ 5的结果是1。但在\n",
    "Python 3.x中，整数除以整数的结果是小数（浮点数）。"
   ]
  },
  {
   "cell_type": "markdown",
   "metadata": {},
   "source": [
    "### 数据类型"
   ]
  },
  {
   "cell_type": "markdown",
   "metadata": {},
   "source": [
    "&emsp;&emsp; 编程中有数据类型（data type）这一概念。数据类型表示数据的性质，\n",
    "有整数、小数、字符串等类型。Python中的 type() 函数可以用来查看数据\n",
    "类型。"
   ]
  },
  {
   "cell_type": "code",
   "execution_count": 6,
   "metadata": {},
   "outputs": [
    {
     "data": {
      "text/plain": [
       "(int, float, str)"
      ]
     },
     "execution_count": 6,
     "metadata": {},
     "output_type": "execute_result"
    }
   ],
   "source": [
    "type(10),type(2.718),type(\"hello\")"
   ]
  },
  {
   "cell_type": "markdown",
   "metadata": {},
   "source": [
    "&emsp;&emsp; 根据上面的结果可知， 10 是 int 类型（整型）， 2.718 是 float 类型（浮点型），\n",
    "\"hello\" 是 str （字符串）类型。另外，“类型”和“类”这两个词有时用作相同\n",
    "的意思。这里，对于输出结果 <class 'int'> ，可以将其解释成“ 10 是 int 类（类\n",
    "型）”。"
   ]
  },
  {
   "cell_type": "markdown",
   "metadata": {},
   "source": [
    "### 变量"
   ]
  },
  {
   "cell_type": "markdown",
   "metadata": {},
   "source": [
    "&emsp;&emsp; 可以使用 x 或 y 等字母定义变量（variable）。此外，可以使用变量进行计算，\n",
    "也可以对变量赋值。"
   ]
  },
  {
   "cell_type": "code",
   "execution_count": 7,
   "metadata": {},
   "outputs": [
    {
     "name": "stdout",
     "output_type": "stream",
     "text": [
      "10\n",
      "100\n",
      "314.0\n"
     ]
    },
    {
     "data": {
      "text/plain": [
       "float"
      ]
     },
     "execution_count": 7,
     "metadata": {},
     "output_type": "execute_result"
    }
   ],
   "source": [
    "x=10  #初始化x\n",
    "print(x) \n",
    "x=100  #赋值\n",
    "print(x)\n",
    "y=3.14   #浮点型\n",
    "print(x*y)  \n",
    "type(x*y) "
   ]
  },
  {
   "cell_type": "markdown",
   "metadata": {},
   "source": [
    "&emsp;&emsp;Python是属于“动态类型语言”的编程语言，所谓动态，是指变量的类\n",
    "型是根据情况自动决定的。在上面的例子中，用户并没有明确指出“ x 的类\n",
    "型是 int （整型）”，是Python根据 x 被初始化为10，从而判断出 x 的类型为\n",
    "int 的。此外，我们也可以看到，整数和小数相乘的结果是小数（数据类型的\n",
    "自动转换）。另外，“ # ”是注释的意思，它后面的文字会被Python忽略。"
   ]
  },
  {
   "cell_type": "markdown",
   "metadata": {},
   "source": [
    "### 列表"
   ]
  },
  {
   "cell_type": "markdown",
   "metadata": {},
   "source": [
    "&emsp;&emsp;除了单一的数值，还可以用列表（数组）汇总数据。"
   ]
  },
  {
   "cell_type": "code",
   "execution_count": 9,
   "metadata": {},
   "outputs": [
    {
     "name": "stdout",
     "output_type": "stream",
     "text": [
      "[1, 2, 3, 4, 5]\n"
     ]
    },
    {
     "data": {
      "text/plain": [
       "(5, 1, 5)"
      ]
     },
     "execution_count": 9,
     "metadata": {},
     "output_type": "execute_result"
    }
   ],
   "source": [
    "a=[1,2,3,4,5] #生成列表\n",
    "print(a) #输出列表的内容\n",
    "len(a),a[0],a[4] # 获取列表的长度，访问列表的第一个和第五个元素"
   ]
  },
  {
   "cell_type": "code",
   "execution_count": 10,
   "metadata": {},
   "outputs": [
    {
     "name": "stdout",
     "output_type": "stream",
     "text": [
      "[1, 2, 3, 4, 99]\n"
     ]
    }
   ],
   "source": [
    "a[4]=99 #赋值\n",
    "print(a)"
   ]
  },
  {
   "cell_type": "markdown",
   "metadata": {},
   "source": [
    "&emsp;&emsp;元素的访问是通过 a[0] 这样的方式进行的。 [ ] 中的数字称为索引（下标），\n",
    "索引从0开始（索引0对应第一个元素）。此外，Python的列表提供了切片（slicing）这一便捷的标记法。使用切片不仅可以访问某个值，还可以访问列表的子列表（部分列表）。"
   ]
  },
  {
   "cell_type": "code",
   "execution_count": 11,
   "metadata": {
    "scrolled": true
   },
   "outputs": [
    {
     "name": "stdout",
     "output_type": "stream",
     "text": [
      "[1, 2, 3, 4, 99]\n",
      "[1, 2]\n",
      "[2, 3, 4, 99]\n",
      "[1, 2, 3]\n",
      "[1, 2, 3, 4]\n",
      "[1, 2, 3]\n"
     ]
    }
   ],
   "source": [
    "print(a)\n",
    "print(a[0:2]) #获取索引为0到2(不包括2!)的元素\n",
    "print(a[1:]) #获取从索引为1的元素到最后一个元素\n",
    "print(a[:3]) #获取从第一个元素到索引为3(不包括3！)的元素\n",
    "print(a[:-1]) #获取从第一个元素到最后一个元素的**前一个元素**之间的元素 \n",
    "print(a[:-2]) #获取从第一个元素到最后一个元素的**前二个元素**之间的元素 "
   ]
  },
  {
   "cell_type": "markdown",
   "metadata": {},
   "source": [
    "&emsp;&emsp; 进行列表的切片时，需要写成 a[0:2] 这样的形式。 a[0:2] 用于取出从索引为0的元素到索引为2的元素的前一个元素之间的元素。另外，索引−1对应最后一个元素，−2对应最后一个元素的前一个元素。"
   ]
  },
  {
   "cell_type": "markdown",
   "metadata": {},
   "source": [
    "### 字典"
   ]
  },
  {
   "cell_type": "markdown",
   "metadata": {},
   "source": [
    "&emsp;&emsp;  列表根据索引，按照0, 1, 2, . . . 的顺序存储值，而字典则以键值对的形式存储数据。字典就像《新华字典》那样，将单词和它的含义对应着存储起来。"
   ]
  },
  {
   "cell_type": "code",
   "execution_count": 13,
   "metadata": {},
   "outputs": [
    {
     "data": {
      "text/plain": [
       "180"
      ]
     },
     "execution_count": 13,
     "metadata": {},
     "output_type": "execute_result"
    }
   ],
   "source": [
    "me={'height':180} #生成字典\n",
    "me['height'] #访问元素"
   ]
  },
  {
   "cell_type": "code",
   "execution_count": 14,
   "metadata": {},
   "outputs": [
    {
     "data": {
      "text/plain": [
       "{'height': 180, 'weight': 70}"
      ]
     },
     "execution_count": 14,
     "metadata": {},
     "output_type": "execute_result"
    }
   ],
   "source": [
    "me['weight']=70  #添加元素，注意区分语法\n",
    "me"
   ]
  },
  {
   "cell_type": "markdown",
   "metadata": {},
   "source": [
    "### 布尔型"
   ]
  },
  {
   "cell_type": "markdown",
   "metadata": {},
   "source": [
    "&emsp;&emsp;Python中有 bool 型。 bool 型取 True 或 False 中的一个值。针对 bool 型的运算符包括 and 、 or 和 not （针对数值的运算符有 + 、 - 、 * 、 / 等，根据不同的数据类型使用不同的运算符）。  "
   ]
  },
  {
   "cell_type": "code",
   "execution_count": 21,
   "metadata": {},
   "outputs": [
    {
     "data": {
      "text/plain": [
       "(bool, False, False, True)"
      ]
     },
     "execution_count": 21,
     "metadata": {},
     "output_type": "execute_result"
    }
   ],
   "source": [
    "hungry ,sleepy = True,False # 饿了？，困了？\n",
    "type(hungry),not hungry, hungry and sleepy , hungry or sleepy "
   ]
  },
  {
   "cell_type": "markdown",
   "metadata": {},
   "source": [
    "### if语句"
   ]
  },
  {
   "cell_type": "markdown",
   "metadata": {},
   "source": [
    "&emsp;&emsp;根据不同的条件选择不同的处理分支时可以使用 if/else 语句。"
   ]
  },
  {
   "cell_type": "code",
   "execution_count": 1,
   "metadata": {},
   "outputs": [
    {
     "name": "stdout",
     "output_type": "stream",
     "text": [
      "I'm hungry\n"
     ]
    }
   ],
   "source": [
    "hungry= True \n",
    "if hungry:\n",
    "    print(\"I'm hungry\") #使用空白符进行缩进"
   ]
  },
  {
   "cell_type": "code",
   "execution_count": 25,
   "metadata": {},
   "outputs": [
    {
     "name": "stdout",
     "output_type": "stream",
     "text": [
      "I'm not hungry\n",
      "I'm sleepy\n"
     ]
    }
   ],
   "source": [
    "hungry= False \n",
    "if hungry: \n",
    "    print(\"I'm hungry\") #使用空白符进行缩进\n",
    "else:\n",
    "    print(\"I'm not hungry\")\n",
    "    print(\"I'm sleepy\")"
   ]
  },
  {
   "cell_type": "markdown",
   "metadata": {},
   "source": [
    "&emsp;&emsp; Python中的空白字符具有重要的意义。上面的 if 语句中， if hungry: 下面\n",
    "的语句开头有4个空白字符。它是缩进的意思，表示当前面的条件（ if hungry ）\n",
    "成立时，此处的代码会被执行。这个缩进也可以用tab表示，Python中推荐\n",
    "使用空白字符。"
   ]
  },
  {
   "cell_type": "markdown",
   "metadata": {},
   "source": [
    ">Python使用空白字符表示缩进。一般而言，每缩进一次，使用4\n",
    "个空白字符。"
   ]
  },
  {
   "cell_type": "markdown",
   "metadata": {},
   "source": [
    "### for语句"
   ]
  },
  {
   "cell_type": "markdown",
   "metadata": {},
   "source": [
    "&emsp;&emsp; 进行循环处理时可以使用for语句"
   ]
  },
  {
   "cell_type": "code",
   "execution_count": 28,
   "metadata": {},
   "outputs": [
    {
     "name": "stdout",
     "output_type": "stream",
     "text": [
      "1 2 3 "
     ]
    }
   ],
   "source": [
    "for i in [1,2,3]:\n",
    "    print(i,'',end='') #print的打印不再自动换行"
   ]
  },
  {
   "cell_type": "markdown",
   "metadata": {},
   "source": [
    "&emsp;&emsp; 这是输出列表 [1,2,3] 中的元素的例子。使用 for … in … : 语句结构，\n",
    "可以按顺序访问列表等数据集合中的各个元素。"
   ]
  },
  {
   "cell_type": "markdown",
   "metadata": {},
   "source": [
    "### 函数"
   ]
  },
  {
   "cell_type": "markdown",
   "metadata": {},
   "source": [
    "&emsp;&emsp; 可以将一连串的处理定义成函数（function）。 或者称之为某种映射关系"
   ]
  },
  {
   "cell_type": "code",
   "execution_count": 30,
   "metadata": {},
   "outputs": [
    {
     "name": "stdout",
     "output_type": "stream",
     "text": [
      "Hello World!\n"
     ]
    }
   ],
   "source": [
    "def hello(): \n",
    "    print(\"Hello World!\")\n",
    "hello()"
   ]
  },
  {
   "cell_type": "markdown",
   "metadata": {},
   "source": [
    " 此外函数可以取参数。"
   ]
  },
  {
   "cell_type": "code",
   "execution_count": 33,
   "metadata": {},
   "outputs": [
    {
     "name": "stdout",
     "output_type": "stream",
     "text": [
      "Hello cat!\n"
     ]
    }
   ],
   "source": [
    "def hello(object): \n",
    "    print(\"Hello \"+object+\"!\") #注意此处使用了字符串拼接，参数必须是str类型\n",
    "hello(\"cat\")"
   ]
  },
  {
   "cell_type": "markdown",
   "metadata": {},
   "source": [
    "&emsp;&emsp; 字符串的拼接可以使用+"
   ]
  },
  {
   "cell_type": "markdown",
   "metadata": {},
   "source": [
    "### 类"
   ]
  },
  {
   "cell_type": "markdown",
   "metadata": {},
   "source": [
    "&emsp;&emsp;前面我们了解了 int 和 str 等数据类型（通过 type() 函数可以查看对象的类型）。这些数据类型是“内置”的数据类型，是Python中一开始就有的数据类型。现在，我们来定义新的类。如果用户自己定义类的话，就可以自己创建数据类型。此外，也可以定义原创的方法（类的函数）和属性。"
   ]
  },
  {
   "cell_type": "markdown",
   "metadata": {},
   "source": [
    "&emsp;&emsp;Python中使用 class 关键字来定义类，类要遵循下述格式（模板）。"
   ]
  },
  {
   "cell_type": "markdown",
   "metadata": {},
   "source": [
    "```python\n",
    "class 类名:\n",
    "    def __init__(self,参数,…);  #构造函数\n",
    "       …\n",
    "    def 方法名1(self,参数,…);  #方法1\n",
    "       …\n",
    "    def 方法名2(self,参数,…);  #方法2\n",
    "       …\n",
    "```"
   ]
  },
  {
   "cell_type": "markdown",
   "metadata": {},
   "source": [
    "&emsp;&emsp;这里有一个特殊的 __init__ 方法，这是进行初始化的方法，也称为构造函数（constructor）,只在生成类的实例时被调用一次。此外，在方法的第一个参数中明确地写入表示自身（自身的实例）的 self 是Python的一个特点（学过其他编程语言的人可能会觉得这种写 self 的方式有一点奇怪）。\n",
    "\n",
    "&emsp;&emsp;下面我们通过一个简单的例子来创建一个类。"
   ]
  },
  {
   "cell_type": "code",
   "execution_count": 36,
   "metadata": {},
   "outputs": [
    {
     "name": "stdout",
     "output_type": "stream",
     "text": [
      "Initialized!\n",
      "Hello David!\n",
      "Good-bye David!\n"
     ]
    }
   ],
   "source": [
    "class Man:\n",
    "    def __init__(self, name):\n",
    "        self.name = name\n",
    "        print(\"Initialized!\")\n",
    "    def hello(self):\n",
    "        print(\"Hello \" + self.name + \"!\")\n",
    "    def goodbye(self):\n",
    "        print(\"Good-bye \" + self.name + \"!\")\n",
    "m = Man(\"David\")\n",
    "m.hello()\n",
    "m.goodbye()"
   ]
  },
  {
   "cell_type": "markdown",
   "metadata": {},
   "source": [
    "&emsp;&emsp;这里我们定义了一个新类 Man 。上面的例子中，类 Man 生成了实例（对象） m。<br>\n",
    "&emsp;&emsp;类 Man 的构造函数（初始化方法）会接收参数 name ，然后用这个参数初始\n",
    "化实例变量 self.name 。实例变量是存储在各个实例中的变量。Python中可\n",
    "以像 self.name 这样，通过在 self 后面添加属性名来生成或访问实例变量。"
   ]
  },
  {
   "cell_type": "markdown",
   "metadata": {},
   "source": [
    "## Numpy"
   ]
  },
  {
   "cell_type": "markdown",
   "metadata": {},
   "source": [
    "&emsp;&emsp;在深度学习的实现中，经常出现数组和矩阵的计算。NumPy的数组类（ numpy.array ）中提供了很多便捷的方法，在实现深度学习时，我们将使用这些方法。本节我们来简单介绍一下后面会用到的NumPy。"
   ]
  },
  {
   "cell_type": "markdown",
   "metadata": {},
   "source": [
    "### 导入NumPy"
   ]
  },
  {
   "cell_type": "markdown",
   "metadata": {},
   "source": [
    "&emsp;&emsp;NumPy是外部库。这里所说的“外部”是指不包含在标准版Python中。因此，我们首先要导入NumPy库。"
   ]
  },
  {
   "cell_type": "code",
   "execution_count": 40,
   "metadata": {},
   "outputs": [],
   "source": [
    "import numpy as np  # 从外部库导入并命名为np "
   ]
  },
  {
   "cell_type": "markdown",
   "metadata": {},
   "source": [
    "&emsp;&emsp; Python中使用 import 语句来导入库。这里的 import numpy as np ，直译的话就是“将numpy作为np导入”的意思。通过写成这样的形式，之后NumPy相关的方法均可通过 np 来调用"
   ]
  },
  {
   "cell_type": "markdown",
   "metadata": {},
   "source": [
    "### 生成NumPy数组"
   ]
  },
  {
   "cell_type": "markdown",
   "metadata": {},
   "source": [
    "&emsp;&emsp;要生成NumPy数组，需要使用 np.array() 方法。 np.array() 接收Python列表作为参数，生成NumPy数组（ numpy.ndarray ）"
   ]
  },
  {
   "cell_type": "code",
   "execution_count": 44,
   "metadata": {},
   "outputs": [
    {
     "data": {
      "text/plain": [
       "(array([1., 2., 3.]), numpy.ndarray)"
      ]
     },
     "execution_count": 44,
     "metadata": {},
     "output_type": "execute_result"
    }
   ],
   "source": [
    "x=np.array([1.0,2.0,3.0]) \n",
    "x,type(x)   #x类型为numpy.ndarray型"
   ]
  },
  {
   "cell_type": "markdown",
   "metadata": {},
   "source": [
    "### NumPy的算术运算"
   ]
  },
  {
   "cell_type": "markdown",
   "metadata": {},
   "source": [
    "&emsp;&emsp;下面是NumPy数组的算术运算的例子。"
   ]
  },
  {
   "cell_type": "code",
   "execution_count": 55,
   "metadata": {},
   "outputs": [
    {
     "data": {
      "text/plain": [
       "(array([3., 6., 9.]),\n",
       " array([-1., -2., -3.]),\n",
       " array([ 2.,  8., 18.]),\n",
       " array([0.5, 0.5, 0.5]))"
      ]
     },
     "execution_count": 55,
     "metadata": {},
     "output_type": "execute_result"
    }
   ],
   "source": [
    "x=np.array([1.0,2.0,3.0])\n",
    "y = np.array([2.0, 4.0, 6.0])\n",
    "x + y,x - y,x * y,x / y # 四则运算"
   ]
  },
  {
   "cell_type": "markdown",
   "metadata": {},
   "source": [
    "&emsp;&emsp;这里需要注意的是，数组 x 和数组 y 的元素个数是相同的（两者均是元素个数为3的一维数组）。当 x 和 y 的元素个数相同时，可以对各个元素进行算术运算。如果元素个数不同，程序就会报错，所以元素个数保持一致非常重要。另外，“对应元素的”的英文是element-wise，比如“对应元素的乘法”就是element-wise product"
   ]
  },
  {
   "cell_type": "markdown",
   "metadata": {},
   "source": [
    "&emsp;&emsp;NumPy数组不仅可以进行element-wise运算，也可以和单一的数值（标量）组合起来进行运算。此时，需要在NumPy数组的各个元素和标量之间进行运算。这个功能也被称为广播（详见后文）。"
   ]
  },
  {
   "cell_type": "code",
   "execution_count": 59,
   "metadata": {},
   "outputs": [
    {
     "data": {
      "text/plain": [
       "array([0.5, 1. , 1.5])"
      ]
     },
     "execution_count": 59,
     "metadata": {},
     "output_type": "execute_result"
    }
   ],
   "source": [
    "x=np.array([1.0,2.0,3.0])\n",
    "x/2.0"
   ]
  },
  {
   "cell_type": "markdown",
   "metadata": {},
   "source": [
    "### NumPy的 $N$ 维数组"
   ]
  },
  {
   "cell_type": "markdown",
   "metadata": {},
   "source": [
    "&emsp;&emsp;NumPy不仅可以生成一维数组（排成一列的数组），也可以生成多维数组。比如，可以生成如下的二维数组（矩阵）。"
   ]
  },
  {
   "cell_type": "code",
   "execution_count": 65,
   "metadata": {},
   "outputs": [
    {
     "data": {
      "text/plain": [
       "(array([[1, 2],\n",
       "        [3, 4]]),\n",
       " (2, 2),\n",
       " dtype('int32'))"
      ]
     },
     "execution_count": 65,
     "metadata": {},
     "output_type": "execute_result"
    }
   ],
   "source": [
    "A=np.array([[1,2],[3,4]])\n",
    "A,A.shape,A.dtype  # 分别获取形状和类型"
   ]
  },
  {
   "cell_type": "markdown",
   "metadata": {},
   "source": [
    "&emsp;&emsp;这里生成了一个2 × 2的矩阵 A 。另外，矩阵 A 的形状可以通过 shape 查看，矩阵元素的数据类型可以通过 dtype 查看。下面，我们来看一下矩阵的算术运算。"
   ]
  },
  {
   "cell_type": "code",
   "execution_count": 68,
   "metadata": {},
   "outputs": [
    {
     "data": {
      "text/plain": [
       "array([[ 4,  2],\n",
       "       [ 3, 10]])"
      ]
     },
     "execution_count": 68,
     "metadata": {},
     "output_type": "execute_result"
    }
   ],
   "source": [
    "B=np.array([[3,0],[0,6]])\n",
    "A+B"
   ]
  },
  {
   "cell_type": "markdown",
   "metadata": {},
   "source": [
    "&emsp;&emsp;和数组的算术运算一样，矩阵的算术运算也可以在相同形状的矩阵间以对应元素的方式进行。并且，也可以通过标量（单一数值）对矩阵进行算术运算。这也是基于广播的功能。"
   ]
  },
  {
   "cell_type": "code",
   "execution_count": 70,
   "metadata": {},
   "outputs": [
    {
     "data": {
      "text/plain": [
       "(array([[1, 2],\n",
       "        [3, 4]]),\n",
       " array([[10, 20],\n",
       "        [30, 40]]))"
      ]
     },
     "execution_count": 70,
     "metadata": {},
     "output_type": "execute_result"
    }
   ],
   "source": [
    "A,A*10"
   ]
  },
  {
   "cell_type": "markdown",
   "metadata": {},
   "source": [
    "> NumPy数组（ np.array ）可以生成N维数组，即可以生成一维数组、二维数组、三维数组等任意维数的数组。数学上将一维数组称为**向量**，将二维数组称为**矩阵**。另外，可以将一般化之后的向量或矩阵等统称为**张量**（tensor）。本书基本上将二维数组称为“矩阵”，将三维数组及三维以上的数组称为“张量”或“多维数组”。"
   ]
  },
  {
   "cell_type": "markdown",
   "metadata": {},
   "source": [
    "### 广播"
   ]
  },
  {
   "cell_type": "markdown",
   "metadata": {},
   "source": [
    "&emsp;&emsp;NumPy中，形状不同的数组之间也可以进行运算。之前的例子中，在2×2的矩阵 A 和标量 10 之间进行了乘法运算。在这个过程中，标量 10 被扩展成了2 × 2的形状，然后再与矩阵 A 进行乘法运算。这个巧妙的功能称为广播（broadcast）。"
   ]
  },
  {
   "cell_type": "markdown",
   "metadata": {},
   "source": [
    "&emsp;&emsp; 我们通过下面这个运算再来看一个广播的例子"
   ]
  },
  {
   "cell_type": "code",
   "execution_count": 80,
   "metadata": {},
   "outputs": [
    {
     "data": {
      "text/plain": [
       "array([[10, 40],\n",
       "       [30, 80]])"
      ]
     },
     "execution_count": 80,
     "metadata": {},
     "output_type": "execute_result"
    }
   ],
   "source": [
    "A,B=np.array([[1,2],[3,4]]),np.array([10,20])\n",
    "A*B"
   ]
  },
  {
   "cell_type": "markdown",
   "metadata": {},
   "source": [
    "&emsp;&emsp; 在这个运算中，一维数组 B 被“巧妙地”变成了和二位数组 A 相同的形状，然后再以对应元素的方式进行运算。\n",
    "<br>&emsp;&emsp; 综上，因为NumPy有广播功能，所以不同形状的数组之间也可以顺利地进行运算"
   ]
  },
  {
   "cell_type": "markdown",
   "metadata": {},
   "source": [
    "### 访问元素"
   ]
  },
  {
   "cell_type": "markdown",
   "metadata": {},
   "source": [
    "&emsp;&emsp;元素的索引从0开始。对各个元素的访问可按如下方式进行。"
   ]
  },
  {
   "cell_type": "code",
   "execution_count": 87,
   "metadata": {},
   "outputs": [
    {
     "data": {
      "text/plain": [
       "(array([[51, 55],\n",
       "        [14, 19],\n",
       "        [ 0,  4]]),\n",
       " array([51, 55]),\n",
       " 55)"
      ]
     },
     "execution_count": 87,
     "metadata": {},
     "output_type": "execute_result"
    }
   ],
   "source": [
    "X=np.array([[51,55],[14,19],[0,4]])\n",
    "X,X[0],X[0][1] #分别访问 第0行，(0,1)的元素"
   ]
  },
  {
   "cell_type": "markdown",
   "metadata": {},
   "source": [
    "&emsp;&emsp; 也可以使用for语句访各个元素"
   ]
  },
  {
   "cell_type": "code",
   "execution_count": 89,
   "metadata": {},
   "outputs": [
    {
     "name": "stdout",
     "output_type": "stream",
     "text": [
      "[51 55]\n",
      "[14 19]\n",
      "[0 4]\n"
     ]
    }
   ],
   "source": [
    "for row in X:  #此时row每次取X的行\n",
    "    print(row)"
   ]
  },
  {
   "cell_type": "code",
   "execution_count": 90,
   "metadata": {},
   "outputs": [
    {
     "name": "stdout",
     "output_type": "stream",
     "text": [
      "51 55 14 19 0 4 "
     ]
    }
   ],
   "source": [
    "for row in X:   #row取行\n",
    "    for low in row: #low 取行中的列 \n",
    "        print(low,'',end='') #如此可以打印出来所有元素"
   ]
  },
  {
   "cell_type": "markdown",
   "metadata": {},
   "source": [
    "&emsp;&emsp; 除了前面介绍的索引操作，NumPy还可以使用数组访问各个元素。"
   ]
  },
  {
   "cell_type": "code",
   "execution_count": 92,
   "metadata": {},
   "outputs": [
    {
     "data": {
      "text/plain": [
       "(array([51, 55, 14, 19,  0,  4]), array([51, 14,  0]))"
      ]
     },
     "execution_count": 92,
     "metadata": {},
     "output_type": "execute_result"
    }
   ],
   "source": [
    "X=X.flatten()  #将X转换为一维数组\n",
    "X,X[np.array([0,2,4])] #获取索引为0，2，4的元素"
   ]
  },
  {
   "cell_type": "markdown",
   "metadata": {},
   "source": [
    "&emsp;&emsp;运用这个标记法，可以获取满足一定条件的元素。例如，要从 X 中抽出大于15的元素，可以写成如下形式。 "
   ]
  },
  {
   "cell_type": "code",
   "execution_count": 95,
   "metadata": {},
   "outputs": [
    {
     "data": {
      "text/plain": [
       "array([ True,  True, False,  True, False, False])"
      ]
     },
     "execution_count": 95,
     "metadata": {},
     "output_type": "execute_result"
    }
   ],
   "source": [
    "X>15 "
   ]
  },
  {
   "cell_type": "code",
   "execution_count": 96,
   "metadata": {},
   "outputs": [
    {
     "data": {
      "text/plain": [
       "array([51, 55, 19])"
      ]
     },
     "execution_count": 96,
     "metadata": {},
     "output_type": "execute_result"
    }
   ],
   "source": [
    "X[X>15]"
   ]
  },
  {
   "cell_type": "markdown",
   "metadata": {},
   "source": [
    "&emsp;&emsp;对NumPy数组使用不等号运算符等（上例中是 X > 15 ）,结果会得到一个布尔型的数组。上例中就是使用这个布尔型数组取出了数组的各个元素（取出 True 对应的元素）。"
   ]
  },
  {
   "cell_type": "markdown",
   "metadata": {},
   "source": [
    ">Python等动态类型语言一般比C和C++等静态类型语言（编译型语言）运算速度慢。实际上，如果是运算量大的处理对象，用C/C++写程序更好。为此，当Python中追求性能时，人们会用C/C++来实现处理的内容。Python则承担“中间人”的角色，负责调用那些用C/C++写的程序。NumPy中，主要的处理也都是通过C或C++实现的。因此，我们可以在不损失性能的情况下，使用Python便利的语法。"
   ]
  },
  {
   "cell_type": "markdown",
   "metadata": {},
   "source": [
    "## Matplotlib"
   ]
  },
  {
   "cell_type": "markdown",
   "metadata": {},
   "source": [
    "&emsp;&emsp;在深度学习的实验中，图形的绘制和数据的可视化非常重要。Matplotlib\n",
    "是用于绘制图形的库，使用Matplotlib可以轻松地绘制图形和实现数据的可\n",
    "视化。这里，我们来介绍一下图形的绘制方法和图像的显示方法"
   ]
  },
  {
   "cell_type": "markdown",
   "metadata": {},
   "source": [
    "### 绘制简单图形"
   ]
  },
  {
   "cell_type": "markdown",
   "metadata": {},
   "source": [
    "&emsp;&emsp;可以使用 matplotlib 的 pyplot 模块绘制图形。话不多说，我们来看一个绘制sin函数曲线的例子。"
   ]
  },
  {
   "cell_type": "code",
   "execution_count": 104,
   "metadata": {},
   "outputs": [
    {
     "data": {
      "image/png": "[encoded data removed]",
      "text/plain": [
       "<Figure size 432x288 with 1 Axes>"
      ]
     },
     "metadata": {
      "needs_background": "light"
     },
     "output_type": "display_data"
    }
   ],
   "source": [
    "import numpy as np\n",
    "import matplotlib.pyplot as plt \n",
    "\n",
    "#生成数据\n",
    "x=np.arange(0, 6, 0.1) #以0.1为单位，生成0到6的数据\n",
    "y=np.sin(x)\n",
    "\n",
    "#绘制图形\n",
    "plt.plot(x,y)\n",
    "plt.show()"
   ]
  },
  {
   "cell_type": "markdown",
   "metadata": {},
   "source": [
    "&emsp;&emsp;这里使用NumPy的 arange 方法生成了 [0, 0.1, 0.2, … , 5.8, 5.9] 的数据，将其设为 x 。对 x 的各个元素，应用NumPy的sin函数 np.sin() ，将 x 、y 的数据传给 plt.plot 方法，然后绘制图形。最后，通过 plt.show() 显示图形。"
   ]
  },
  {
   "cell_type": "markdown",
   "metadata": {},
   "source": [
    "### pyplot的功能"
   ]
  },
  {
   "cell_type": "markdown",
   "metadata": {},
   "source": [
    "&emsp;&emsp;在刚才的sin函数的图形中，我们尝试追加cos函数的图形，并尝试使用pyplot 的添加标题和x轴标签名等其他功能。"
   ]
  },
  {
   "cell_type": "code",
   "execution_count": 111,
   "metadata": {},
   "outputs": [
    {
     "data": {
      "image/png": "[encoded data removed]",
      "text/plain": [
       "<Figure size 432x288 with 1 Axes>"
      ]
     },
     "metadata": {
      "needs_background": "light"
     },
     "output_type": "display_data"
    }
   ],
   "source": [
    "import numpy as np\n",
    "import matplotlib.pyplot as plt\n",
    "\n",
    "#生成数据\n",
    "x=np.arange(0, 6, 0.1) #以0.1为单位，生成0到6的数据\n",
    "y1=np.sin(x)\n",
    "y2=np.cos(x)\n",
    "\n",
    "#绘制图形\n",
    "plt.plot(x,y1,label=\"sin\")\n",
    "plt.plot(x,y2,linestyle='--',label='cos')# 用虚线绘制\n",
    "plt.xlabel(\"x\") #x轴标签\n",
    "plt.ylabel(\"y\") #y轴标签\n",
    "plt.title('sin & cos') #标题\n",
    "plt.legend()\n",
    "plt.show()"
   ]
  },
  {
   "cell_type": "markdown",
   "metadata": {},
   "source": [
    "&emsp;&emsp; 如图所示，我们看到图的标题、轴的标签名都被标出来了。"
   ]
  },
  {
   "cell_type": "markdown",
   "metadata": {},
   "source": [
    "### 显示图像"
   ]
  },
  {
   "cell_type": "markdown",
   "metadata": {},
   "source": [
    "&emsp;&emsp;  pyplot 中还提供了用于显示图像的方法 imshow() 。另外，可以使用\n",
    "matplotlib.image 模块的 imread() 方法读入图像。下面我们来看一个例子。"
   ]
  },
  {
   "cell_type": "code",
   "execution_count": 124,
   "metadata": {},
   "outputs": [
    {
     "data": {
      "text/plain": [
       "<function matplotlib.pyplot.show(*args, **kw)>"
      ]
     },
     "execution_count": 124,
     "metadata": {},
     "output_type": "execute_result"
    },
    {
     "data": {
      "image/png": "[encoded data removed]",
      "text/plain": [
       "<Figure size 432x288 with 1 Axes>"
      ]
     },
     "metadata": {
      "needs_background": "light"
     },
     "output_type": "display_data"
    }
   ],
   "source": [
    "import matplotlib.pyplot as plt \n",
    "from matplotlib.image import imread \n",
    "\n",
    "img=imread(r'C:\\Users\\赵成\\Pictures\\v2-66f2c17f7fdc5f7c1d80dfa51ea26c2d.jpg') #加r表示只读，防止转义，\n",
    "plt.imshow(img)\n",
    "plt.show"
   ]
  },
  {
   "cell_type": "markdown",
   "metadata": {},
   "source": [
    "&emsp;&emsp;这里，图像是绝对路径。读者根据自己的环境，可能需要变更文件名或文件路径。"
   ]
  },
  {
   "cell_type": "markdown",
   "metadata": {},
   "source": [
    "## 小结"
   ]
  },
  {
   "cell_type": "markdown",
   "metadata": {},
   "source": [
    "&emsp;&emsp;本章重点介绍了实现深度学习（神经网络）所需的编程知识，以为学习深度学习做好准备。从下一章开始，我们将通过使用Python实际运行代码，逐步了解深度学习。"
   ]
  },
  {
   "cell_type": "markdown",
   "metadata": {},
   "source": [
    "&emsp;&emsp; 本章只介绍了关于Python的最低限度的知识，想进一步了解Python的读者，可以参考下面这些图书。首先推荐《Python语言及其应用》 [1] 一书。这是一本详细介绍从Python编程的基础到应用的实践性的入门书。关于NumPy，《利用Python进行数据分析》 [2] 一书中进行了简单易懂的总结。此外，“Scipy Lecture Notes”[3] 这个网站上也有以科学计算为主题的NumPy和Matplotlib的详细介绍，有兴趣的读者可以参考。"
   ]
  },
  {
   "cell_type": "markdown",
   "metadata": {},
   "source": [
    "&emsp;&emsp;下面，我们来总结一下本章所学的内容，如下所示。"
   ]
  },
  {
   "cell_type": "markdown",
   "metadata": {},
   "source": [
    "本章所学的内容\n",
    "* Python是一种简单易记的编程语言。\n",
    "* Python是开源的，可以自由使用。\n",
    "* 本书中将使用Python 3.x实现深度学习。\n",
    "* 本书中将使用NumPy和Matplotlib这两种外部库。\n",
    "* Python有“解释器”和“脚本文件”两种运行模式。\n",
    "* Python能够将一系列处理集成为函数或类等模块。\n",
    "* NumPy中有很多用于操作多维数组的便捷方法。"
   ]
  }
 ],
 "metadata": {
  "kernelspec": {
   "display_name": "Python 3",
   "language": "python",
   "name": "python3"
  },
  "language_info": {
   "codemirror_mode": {
    "name": "ipython",
    "version": 3
   },
   "file_extension": ".py",
   "mimetype": "text/x-python",
   "name": "python",
   "nbconvert_exporter": "python",
   "pygments_lexer": "ipython3",
   "version": "3.7.6"
  },
  "toc": {
   "base_numbering": 1,
   "nav_menu": {},
   "number_sections": true,
   "sideBar": true,
   "skip_h1_title": false,
   "title_cell": "Table of Contents",
   "title_sidebar": "Contents",
   "toc_cell": false,
   "toc_position": {},
   "toc_section_display": true,
   "toc_window_display": false
  }
 },
 "nbformat": 4,
 "nbformat_minor": 4
}
